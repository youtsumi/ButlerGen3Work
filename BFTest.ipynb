{
 "cells": [
  {
   "cell_type": "code",
   "execution_count": 1,
   "id": "cf83b15a-af45-4b82-8e5c-ada6ab0efffd",
   "metadata": {},
   "outputs": [
    {
     "name": "stdout",
     "output_type": "stream",
     "text": [
      "eups                  LOCAL:/cvmfs/sw.lsst.eu/linux-x86_64/lsst_distrib/w_2021_21/conda/miniconda3-py38_4.9.2/envs/lsst-scipipe-0.6.0-ext/eups \tsetup\n",
      "lsst_distrib          21.0.0-2-g8e5b5ee+0374c0674c \tw_latest current w_2021_21 setup\n"
     ]
    }
   ],
   "source": [
    "! eups list -s | grep lsst_distrib"
   ]
  },
  {
   "cell_type": "code",
   "execution_count": 2,
   "id": "4ae56edb-49a8-4c83-afc7-950788331985",
   "metadata": {},
   "outputs": [],
   "source": [
    "import numpy as np\n",
    "import matplotlib.pyplot as plt\n",
    "from lsst.daf.butler import Butler\n",
    "import lsst.afw.display as afwDisplay\n",
    "import lsst.afw.image as afwImage\n",
    "from astropy.table import Table\n",
    "from lsst.ip.isr.isrTask import IsrTask\n"
   ]
  },
  {
   "cell_type": "code",
   "execution_count": 3,
   "id": "7d387f9f-c7d4-4e0e-8db6-d6055344f00d",
   "metadata": {},
   "outputs": [],
   "source": [
    "def display(exposure,title=None):\n",
    "    afwDisplay.setDefaultBackend('matplotlib') \n",
    "    fig = plt.figure(figsize=(10,10))\n",
    "    afw_display = afwDisplay.Display(1)\n",
    "    afw_display.scale('asinh', 'zscale')\n",
    "    afw_display.mtv(exposure.getImage())\n",
    "    plt.title(title)\n",
    "    plt.gca().axis('off')"
   ]
  },
  {
   "cell_type": "markdown",
   "id": "11740ece-fa78-4ddc-a16a-7cc3ee3298ed",
   "metadata": {},
   "source": [
    "List data in this collections"
   ]
  },
  {
   "cell_type": "code",
   "execution_count": 4,
   "id": "463329df-484e-4fd3-b7ec-1de29b9e584e",
   "metadata": {},
   "outputs": [
    {
     "name": "stdout",
     "output_type": "stream",
     "text": [
      "SQLite3@/sdf/group/lsst/camera/IandT/repo_gen3/spot_test_v2/gen3.sqlite3\n",
      "0 DatasetType('raw', {band, instrument, detector, physical_filter, exposure}, Exposure)\n",
      "243 DatasetType('cpBiasProc', {band, instrument, detector, physical_filter, exposure}, Exposure)\n",
      "243 DatasetType('isr_metadata', {band, instrument, detector, physical_filter, exposure}, PropertySet)\n",
      "3 DatasetType('bias', {instrument, detector}, ExposureF, isCalibration=True)\n",
      "3 DatasetType('cpCombine_metadata', {instrument, detector}, PropertySet)\n",
      "1 DatasetType('isr_config', {}, Config)\n",
      "1 DatasetType('cpCombine_config', {}, Config)\n",
      "1 DatasetType('packages', {}, Packages)\n",
      "0 DatasetType('camera', {instrument}, Camera, isCalibration=True)\n",
      "0 DatasetType('cpDarkIsr', {band, instrument, detector, physical_filter, exposure}, Exposure)\n",
      "0 DatasetType('cpDarkProc', {band, instrument, detector, physical_filter, exposure}, Exposure)\n",
      "0 DatasetType('cpDark_metadata', {band, instrument, detector, physical_filter, exposure}, PropertySet)\n",
      "0 DatasetType('dark', {instrument, detector}, ExposureF, isCalibration=True)\n",
      "0 DatasetType('cpDarkCombine_metadata', {instrument, detector}, PropertySet)\n",
      "0 DatasetType('cpDark_config', {}, Config)\n",
      "0 DatasetType('cpDarkCombine_config', {}, Config)\n",
      "0 DatasetType('cpDefectsProc', {band, instrument, detector, physical_filter, exposure}, Exposure)\n",
      "0 DatasetType('cpPartialDefects', {band, instrument, detector, physical_filter, exposure}, Defects)\n",
      "0 DatasetType('defects', {instrument, detector}, Defects, isCalibration=True)\n",
      "0 DatasetType('mergeDefects_metadata', {instrument, detector}, PropertySet)\n",
      "0 DatasetType('measureDefects_metadata', {band, instrument, detector, physical_filter, exposure}, PropertySet)\n",
      "0 DatasetType('mergeDefects_config', {}, Config)\n",
      "0 DatasetType('measureDefects_config', {}, Config)\n",
      "0 DatasetType('spotSrc_schema', {}, SourceCatalog)\n",
      "0 DatasetType('postISRCCD', {band, instrument, detector, physical_filter, exposure}, Exposure)\n",
      "0 DatasetType('spotSrc', {band, instrument, detector, physical_filter, exposure}, SourceCatalog)\n",
      "0 DatasetType('characterizeSpots_metadata', {band, instrument, detector, physical_filter, exposure}, PropertySet)\n",
      "0 DatasetType('gridSpotSrc', {band, instrument, detector, physical_filter, exposure}, SourceCatalog)\n",
      "0 DatasetType('gridfit_metadata', {band, instrument, detector, physical_filter, exposure}, PropertySet)\n",
      "0 DatasetType('characterizeSpots_config', {}, Config)\n",
      "0 DatasetType('gridfit_config', {}, Config)\n",
      "0 DatasetType('cpFlatProc', {band, instrument, detector, physical_filter, exposure}, Exposure)\n",
      "0 DatasetType('cpFlatNormScales', {band, instrument, physical_filter}, StructuredDataDict)\n",
      "0 DatasetType('flatStats', {band, instrument, detector, physical_filter, exposure}, PropertyList)\n",
      "0 DatasetType('cpFlatNorm_metadata', {band, instrument, physical_filter}, PropertySet)\n",
      "0 DatasetType('flat', {band, instrument, detector, physical_filter}, ExposureF, isCalibration=True)\n",
      "0 DatasetType('cpFlatCombine_metadata', {band, instrument, detector, physical_filter}, PropertySet)\n",
      "0 DatasetType('cpFlatMeasure_metadata', {band, instrument, detector, physical_filter, exposure}, PropertySet)\n",
      "0 DatasetType('cpFlatNorm_config', {}, Config)\n",
      "0 DatasetType('cpFlatCombine_config', {}, Config)\n",
      "0 DatasetType('cpFlatMeasure_config', {}, Config)\n",
      "0 DatasetType('cpPtcProc', {band, instrument, detector, physical_filter, exposure}, Exposure)\n",
      "0 DatasetType('cpCovariances', {band, instrument, detector, physical_filter, exposure}, PhotonTransferCurveDataset)\n",
      "0 DatasetType('ptc', {instrument, detector}, PhotonTransferCurveDataset, isCalibration=True)\n",
      "0 DatasetType('ptcSolve_metadata', {instrument, detector}, PropertySet)\n",
      "0 DatasetType('ptcExtract_metadata', {instrument, detector}, PropertySet)\n",
      "0 DatasetType('ptcSolve_config', {}, Config)\n",
      "0 DatasetType('ptcExtract_config', {}, Config)\n",
      "0 DatasetType('bfk', {instrument, detector}, BrighterFatterKernel, isCalibration=True)\n",
      "0 DatasetType('bfkSolve_metadata', {band, instrument, detector, physical_filter, exposure}, PropertySet)\n",
      "0 DatasetType('bfkSolve_config', {}, Config)\n"
     ]
    }
   ],
   "source": [
    "repo_path = \"/sdf/group/lsst/camera/IandT/repo_gen3/spot_test_v2/butler.yaml\"\n",
    "collections = 'u/jchiang/calib/bias/run_12781/20210525T184949Z'.split(\",\")\n",
    "\n",
    "butler = Butler(repo_path)\n",
    "registry = butler.registry\n",
    "    \n",
    "subbutler = Butler(repo_path,collections=collections)\n",
    "subregistry = subbutler.registry\n",
    "print(subregistry)\n",
    "for dtype in subregistry.queryDatasetTypes():\n",
    "    try:\n",
    "        datasetRefs = list(subregistry.queryDatasets(datasetType=dtype,collections=collections))\n",
    "        print(len(datasetRefs), dtype )\n",
    "    except:\n",
    "        print(\"Error\", dtype )"
   ]
  },
  {
   "cell_type": "markdown",
   "id": "9295d84d-56ee-4720-b222-8bdd666d6277",
   "metadata": {},
   "source": [
    "Get a bias"
   ]
  },
  {
   "cell_type": "code",
   "execution_count": 5,
   "id": "7beee4fc-f934-4cf5-9e9f-72b888d4730e",
   "metadata": {},
   "outputs": [
    {
     "data": {
      "text/plain": [
       "[<lsst.afw.image.exposure.ExposureF at 0x7ff358036bf0>]"
      ]
     },
     "execution_count": 5,
     "metadata": {},
     "output_type": "execute_result"
    }
   ],
   "source": [
    "where = \"\"\"\n",
    "instrument='LSSTCam'\n",
    "and detector=96\n",
    "\"\"\"\n",
    "collections =\"u/jchiang/calib/bias/run_12781/20210525T184949Z\"\n",
    "\n",
    "subbutler = Butler(repo_path,collections=collections)\n",
    "subregistry = subbutler.registry\n",
    "\n",
    "atyp = \"bias\"\n",
    "datasetRefs = list(subregistry.queryDatasets(\n",
    "    datasetType=atyp,collections=collections,where=where\n",
    "))\n",
    "\n",
    "biases = []\n",
    "for adatasetRef in datasetRefs:\n",
    "    biases.append( subbutler.get(adatasetRef) )\n",
    "biases"
   ]
  },
  {
   "cell_type": "markdown",
   "id": "e574a521-96ba-4f7d-ac1e-9083650600c4",
   "metadata": {},
   "source": [
    "Get BFK for 96"
   ]
  },
  {
   "cell_type": "code",
   "execution_count": 6,
   "id": "9132bcb6-2df1-40cf-b32d-7b04dea04488",
   "metadata": {},
   "outputs": [
    {
     "data": {
      "text/plain": [
       "[<lsst.ip.isr.brighterFatterKernel.BrighterFatterKernel at 0x7ff358204d00>]"
      ]
     },
     "execution_count": 6,
     "metadata": {},
     "output_type": "execute_result"
    }
   ],
   "source": [
    "where = \"\"\"\n",
    "instrument='LSSTCam'\n",
    "and detector=96\n",
    "\"\"\"\n",
    "collections =\"u/youtsumi/run_12781/bf_work_v5_v2/bfks/20210620T235809Z\"\n",
    "\n",
    "subbutler = Butler(repo_path,collections=collections)\n",
    "subregistry = subbutler.registry\n",
    "\n",
    "atyp = \"bfk\"\n",
    "datasetRefs = list(subregistry.queryDatasets(\n",
    "    datasetType=atyp,collections=collections,where=where\n",
    "))\n",
    "\n",
    "bfk = []\n",
    "for adatasetRef in datasetRefs:\n",
    "    bfk.append( subbutler.get(adatasetRef) )\n",
    "bfk"
   ]
  },
  {
   "cell_type": "markdown",
   "id": "786c11db-4c12-4247-b0f0-5ae05aef6985",
   "metadata": {},
   "source": [
    "Do ISR"
   ]
  },
  {
   "cell_type": "code",
   "execution_count": null,
   "id": "6a996dff-eeb8-4fae-a941-b585b3c1e134",
   "metadata": {},
   "outputs": [
    {
     "name": "stdout",
     "output_type": "stream",
     "text": [
      "{instrument: 'LSSTCam', detector: 96, exposure: 3020112300165, ...} / 2400\n"
     ]
    },
    {
     "name": "stderr",
     "output_type": "stream",
     "text": [
      "/sdf/group/lsst/camera/IandT/rawData/focal-plane/20201123/MC_C_20201123_000165/MC_C_20201123_000165_R22_S20.fits(MC_C_20201123_000165): Unable to determine the filter\n"
     ]
    }
   ],
   "source": [
    "where = \"\"\"\n",
    "instrument='LSSTCam'\n",
    "and detector=96\n",
    "and exposure.observation_type='spot'\n",
    "and exposure.science_program IN ('12784')\n",
    "\"\"\"\n",
    "collections = 'u/jchiang/calib/bias/run_12781/20210525T184949Z,u/abrought/run_12781/bf_work_v5/polynomialfit/spots_v10/wbfcorr'.split(\",\")\n",
    "\n",
    "subbutler = Butler(repo_path,collections=collections)\n",
    "subregistry = subbutler.registry\n",
    "\n",
    "# get an array of raw images\n",
    "atyp = \"raw\"\n",
    "datasetRefs = list(subregistry.queryDatasets(\n",
    "    datasetType=atyp,collections=collections,\n",
    "    where = where\n",
    "))\n",
    "\n",
    "i=0\n",
    "print(datasetRefs[i].dataId, \"/\", len(datasetRefs))\n",
    "raw = subbutler.get(datasetRefs[i])\n",
    "\n",
    "# It didn't work by supplying BFK as an input of bfKernel. I digged into the code and it turned out it needed to make detector level brighter fatter kernel and passed it to as a numpy.ndarray. The following cell is to prepare it\n",
    "# https://github.com/lsst/ip_isr/blob/c8894c71d8ece4ba74a0eec7ca2cdacfc997e8ea/python/lsst/ip/isr/isrTask.py#L1014\n",
    "detName = raw.getDetector().getName()\n",
    "level = bfk[0].level\n",
    "bfk[0].makeDetectorKernelFromAmpwiseKernels(detName)\n",
    "print(detName,level)\n",
    "\n",
    "# Do ISR with BFK correction\n",
    "isr = IsrTask()\n",
    "isr.config.doLinearize=False\n",
    "isr.config.doDark=False\n",
    "isr.config.doBias=True        \n",
    "isr.config.doFlat=False\n",
    "isr.config.doDefect=False\n",
    "isr.config.doBrighterFatter=True\n",
    "\n",
    "postISRCCD = isr.run(raw,bias=biases[0],bfKernel=bfk[0].detKernels[detName])\n",
    "display(postISRCCD.exposure,\"w/ BFK\")\n",
    "plt.show()\n",
    "\n",
    "# Do ISR WITHOUT BFK correction\n",
    "isr = IsrTask()\n",
    "isr.config.doLinearize=False\n",
    "isr.config.doDark=False\n",
    "isr.config.doBias=True        \n",
    "isr.config.doFlat=False\n",
    "isr.config.doDefect=False\n",
    "isr.config.doBrighterFatter=False\n",
    "\n",
    "postISRCCDwoBFK = isr.run(raw,bias=biases[0])\n",
    "display(postISRCCDwoBFK.exposure,\"w/o BFK\")\n",
    "plt.show()\n",
    "\n"
   ]
  },
  {
   "cell_type": "code",
   "execution_count": null,
   "id": "7e1b6864-e0fa-46cc-a43f-140348940234",
   "metadata": {},
   "outputs": [],
   "source": [
    "print(postISRCCD.exposure)\n",
    "\n",
    "fig = plt.figure(figsize=(10,10))\n",
    "\n",
    "\n",
    "for a, l in [ \n",
    "    ( postISRCCD.exposure.image.array.flatten(), \"w/ BFK\"),\n",
    "    ( postISRCCDwoBFK.exposure.image.array.flatten(), \"w/o BFK\"),\n",
    "    ( (postISRCCD.exposure.image.array-postISRCCDwoBFK.exposure.image.array).flatten(), \"w/ - w/o BFK\")\n",
    "    ]:\n",
    "    plt.hist(\n",
    "        a,range=(-3*a.std(),3*a.std()),\n",
    "        bins=100,\n",
    "        label=l\n",
    "    )\n",
    "plt.semilogy()\n",
    "plt.legend()\n"
   ]
  },
  {
   "cell_type": "markdown",
   "id": "92fb8240-afe1-4571-b3cb-b2cfb0091ad1",
   "metadata": {},
   "source": [
    "So they are different, which means it applies something... hopefully brighter fatter kernel"
   ]
  }
 ],
 "metadata": {
  "kernelspec": {
   "display_name": "Python [conda env:lsst-scipipe-0.6.0-ext] *",
   "language": "python",
   "name": "conda-env-lsst-scipipe-0.6.0-ext-py"
  },
  "language_info": {
   "codemirror_mode": {
    "name": "ipython",
    "version": 3
   },
   "file_extension": ".py",
   "mimetype": "text/x-python",
   "name": "python",
   "nbconvert_exporter": "python",
   "pygments_lexer": "ipython3",
   "version": "3.8.8"
  }
 },
 "nbformat": 4,
 "nbformat_minor": 5
}
